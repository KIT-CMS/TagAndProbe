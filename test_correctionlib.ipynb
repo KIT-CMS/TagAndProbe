{
 "cells": [
  {
   "cell_type": "code",
   "execution_count": 14,
   "metadata": {},
   "outputs": [],
   "source": [
    "import ROOT\n",
    "import rich\n",
    "import os\n",
    "from scripts.create_crosspog_json import pt_eta_correction, CorrectionSet, emb_doublemuon_correction\n",
    "ROOT.PyConfig.IgnoreCommandLineOptions = True\n",
    "ROOT.gROOT.SetBatch(ROOT.kTRUE)\n",
    "# for keeping the histograms in memory\n",
    "ROOT.TH1.AddDirectory(0)"
   ]
  },
  {
   "cell_type": "code",
   "execution_count": 5,
   "metadata": {},
   "outputs": [],
   "source": [
    "def generate_sfs(channel, era, select, fit, plot):\n",
    "    if select:\n",
    "        run = f\"python3 scripts/TagAndProbe.py --channel {channel} --era {era}\"\n",
    "        !{run}\n",
    "    if fit and plot:\n",
    "        run = f\"python3 scripts/runTagAndProbeFits.py --channel {channel} --era {era} --fit --plot\"\n",
    "        !{run}\n",
    "    elif fit and not plot:\n",
    "        run = f\"python3 scripts/runTagAndProbeFits.py --channel {channel} --era {era} --fit \"\n",
    "        !{run}\n",
    "    elif not fit and plot:\n",
    "        run = f\"python3 scripts/runTagAndProbeFits.py --channel {channel} --era {era} --plot\"\n",
    "        !{run}\n",
    "    else:\n",
    "        print(\"Done\")"
   ]
  },
  {
   "cell_type": "code",
   "execution_count": 6,
   "metadata": {},
   "outputs": [],
   "source": [
    "channel = \"embeddingselection\"\n",
    "era = \"2018UL\""
   ]
  },
  {
   "cell_type": "code",
   "execution_count": 12,
   "metadata": {},
   "outputs": [
    {
     "name": "stdout",
     "output_type": "stream",
     "text": [
      "Getting  EmbID_pt_eta_bins from  output/embeddingselection_TP_Data_2018UL_Fits_EmbID_pt_eta_bins.root\n"
     ]
    }
   ],
   "source": [
    "\n",
    "test = pt_eta_correction(\n",
    "    tag=\"test\",\n",
    "    name=\"EmbID_pt_eta_bins\",\n",
    "    configfile=\"settings/settings_embeddingselection_2018UL.yaml\",\n",
    "    era=\"2018UL\",\n",
    "    outdir=\"output/jsons\",\n",
    "    data_only=True,\n",
    ")\n",
    "test.generate_scheme()\n"
   ]
  },
  {
   "cell_type": "code",
   "execution_count": 11,
   "metadata": {},
   "outputs": [
    {
     "name": "stdout",
     "output_type": "stream",
     "text": [
      "Getting  Trg17_pt_eta_bins from  output/embeddingselection_TP_Data_2018UL_Fits_Trg17_pt_eta_bins.root\n",
      "Getting  Trg8_pt_eta_bins from  output/embeddingselection_TP_Data_2018UL_Fits_Trg8_pt_eta_bins.root\n"
     ]
    }
   ],
   "source": [
    "\n",
    "test_doublemuon = emb_doublemuon_correction(\n",
    "    tag=\"DoubleMuonTest\",\n",
    "    name=\"m_sel_trg_kit_ratio\",\n",
    "    configfile=\"settings/settings_embeddingselection_2018UL_xpog.yaml\",\n",
    "    triggernames=[\"Trg17_pt_eta_bins\", \"Trg8_pt_eta_bins\"],\n",
    "    era=\"2018UL\",\n",
    "    outdir=\"output/jsons\",\n",
    "    data_only=True,\n",
    ")\n",
    "test_doublemuon.generate_scheme()\n"
   ]
  },
  {
   "cell_type": "code",
   "execution_count": 15,
   "metadata": {},
   "outputs": [
    {
     "name": "stdout",
     "output_type": "stream",
     "text": [
      ">>> Writing output/jsons/settest.json...\n"
     ]
    }
   ],
   "source": [
    "if not os.path.exists(\"output/jsons\"):\n",
    "    os.makedirs(\"output/jsons\")\n",
    "correctionset = CorrectionSet(\"Embedding2018ULTest\")\n",
    "correctionset.add_correction(test.correction)\n",
    "correctionset.add_correction(test_doublemuon.correction)\n",
    "correctionset.write_json(\"output/jsons/settest.json\")"
   ]
  },
  {
   "cell_type": "code",
   "execution_count": null,
   "metadata": {},
   "outputs": [],
   "source": []
  }
 ],
 "metadata": {
  "interpreter": {
   "hash": "4ca03565cb001f9cc386465f5e54fb9f7fe5a3d5ae5e1fc4757005751a17d9de"
  },
  "kernelspec": {
   "display_name": "Python 3.9.5 (conda)",
   "language": "python",
   "name": "python3"
  },
  "language_info": {
   "codemirror_mode": {
    "name": "ipython",
    "version": 3
   },
   "file_extension": ".py",
   "mimetype": "text/x-python",
   "name": "python",
   "nbconvert_exporter": "python",
   "pygments_lexer": "ipython3",
   "version": "3.9.5"
  },
  "orig_nbformat": 4
 },
 "nbformat": 4,
 "nbformat_minor": 2
}
