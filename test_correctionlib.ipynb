{
 "cells": [
  {
   "cell_type": "code",
   "execution_count": 1,
   "metadata": {},
   "outputs": [
    {
     "name": "stdout",
     "output_type": "stream",
     "text": [
      "Welcome to JupyROOT 6.24/02\n"
     ]
    }
   ],
   "source": [
    "import ROOT\n",
    "import rich\n",
    "import os\n",
    "import yaml\n",
    "from scripts.create_crosspog_json import pt_eta_correction, CorrectionSet, emb_doublemuon_correction\n",
    "ROOT.PyConfig.IgnoreCommandLineOptions = True\n",
    "ROOT.gROOT.SetBatch(ROOT.kTRUE)\n",
    "# for keeping the histograms in memory\n",
    "ROOT.TH1.AddDirectory(0)"
   ]
  },
  {
   "cell_type": "code",
   "execution_count": 2,
   "metadata": {},
   "outputs": [],
   "source": [
    "# def generate_sfs(channel, era, select, fit, plot):\n",
    "#     if select:\n",
    "#         run = f\"python3 scripts/TagAndProbe.py --channel {channel} --era {era}\"\n",
    "#         !{run}\n",
    "#     if fit and plot:\n",
    "#         run = f\"python3 scripts/runTagAndProbeFits.py --channel {channel} --era {era} --fit --plot\"\n",
    "#         !{run}\n",
    "#     elif fit and not plot:\n",
    "#         run = f\"python3 scripts/runTagAndProbeFits.py --channel {channel} --era {era} --fit \"\n",
    "#         !{run}\n",
    "#     elif not fit and plot:\n",
    "#         run = f\"python3 scripts/runTagAndProbeFits.py --channel {channel} --era {era} --plot\"\n",
    "#         !{run}\n",
    "#     else:\n",
    "#         print(\"Done\")\n",
    "\n",
    "def add_corrections(yamlfile, correctionset, era):\n",
    "    with open(yamlfile, \"r\") as stream:\n",
    "        correction_db = yaml.safe_load(stream)\n",
    "    for correction in correction_db:\n",
    "        print(f\"Adding {correction}\")\n",
    "        correction = pt_eta_correction(\n",
    "            tag=correction_db[correction][\"name\"],\n",
    "            name=correction,\n",
    "            configfile=yamlfile,\n",
    "            era=era,\n",
    "            outdir=\"output/jsons\",\n",
    "            data_only=False,\n",
    "        )\n",
    "        correction.generate_scheme()\n",
    "        correctionset.add_correction(correction.correctionset)"
   ]
  },
  {
   "cell_type": "code",
   "execution_count": 3,
   "metadata": {},
   "outputs": [
    {
     "name": "stdout",
     "output_type": "stream",
     "text": [
      "Adding ID_pt_bins_inc_eta\n",
      "Getting  ID_pt_bins_inc_eta from  output/muon_TP_Data_2018UL_Fits_ID_pt_bins_inc_eta.root\n",
      "Getting  ID_pt_bins_inc_eta from  output/muon_TP_Embedding_2018UL_Fits_ID_pt_bins_inc_eta.root\n",
      "Getting  ID_pt_bins_inc_eta from  output/muon_TP_DY_2018UL_Fits_ID_pt_bins_inc_eta.root\n",
      "Adding ID_pt_eta_bins\n",
      "Getting  ID_pt_eta_bins from  output/muon_TP_Data_2018UL_Fits_ID_pt_eta_bins.root\n",
      "Getting  ID_pt_eta_bins from  output/muon_TP_Embedding_2018UL_Fits_ID_pt_eta_bins.root\n",
      "Getting  ID_pt_eta_bins from  output/muon_TP_DY_2018UL_Fits_ID_pt_eta_bins.root\n",
      "Adding Iso_pt_bins_inc_eta\n",
      "Getting  Iso_pt_bins_inc_eta from  output/muon_TP_Data_2018UL_Fits_Iso_pt_bins_inc_eta.root\n",
      "Getting  Iso_pt_bins_inc_eta from  output/muon_TP_Embedding_2018UL_Fits_Iso_pt_bins_inc_eta.root\n",
      "Getting  Iso_pt_bins_inc_eta from  output/muon_TP_DY_2018UL_Fits_Iso_pt_bins_inc_eta.root\n",
      "Adding Iso_pt_eta_bins\n",
      "Getting  Iso_pt_eta_bins from  output/muon_TP_Data_2018UL_Fits_Iso_pt_eta_bins.root\n",
      "Getting  Iso_pt_eta_bins from  output/muon_TP_Embedding_2018UL_Fits_Iso_pt_eta_bins.root\n",
      "Getting  Iso_pt_eta_bins from  output/muon_TP_DY_2018UL_Fits_Iso_pt_eta_bins.root\n",
      "Adding AIso1_pt_bins_inc_eta\n",
      "Getting  AIso1_pt_bins_inc_eta from  output/muon_TP_Data_2018UL_Fits_AIso1_pt_bins_inc_eta.root\n",
      "Getting  AIso1_pt_bins_inc_eta from  output/muon_TP_Embedding_2018UL_Fits_AIso1_pt_bins_inc_eta.root\n",
      "Getting  AIso1_pt_bins_inc_eta from  output/muon_TP_DY_2018UL_Fits_AIso1_pt_bins_inc_eta.root\n",
      "Adding AIso1_pt_eta_bins\n",
      "Getting  AIso1_pt_eta_bins from  output/muon_TP_Data_2018UL_Fits_AIso1_pt_eta_bins.root\n",
      "Getting  AIso1_pt_eta_bins from  output/muon_TP_Embedding_2018UL_Fits_AIso1_pt_eta_bins.root\n",
      "Getting  AIso1_pt_eta_bins from  output/muon_TP_DY_2018UL_Fits_AIso1_pt_eta_bins.root\n",
      "Adding AIso2_pt_bins_inc_eta\n",
      "Getting  AIso2_pt_bins_inc_eta from  output/muon_TP_Data_2018UL_Fits_AIso2_pt_bins_inc_eta.root\n",
      "Getting  AIso2_pt_bins_inc_eta from  output/muon_TP_Embedding_2018UL_Fits_AIso2_pt_bins_inc_eta.root\n",
      "Getting  AIso2_pt_bins_inc_eta from  output/muon_TP_DY_2018UL_Fits_AIso2_pt_bins_inc_eta.root\n",
      "Adding AIso2_pt_eta_bins\n",
      "Getting  AIso2_pt_eta_bins from  output/muon_TP_Data_2018UL_Fits_AIso2_pt_eta_bins.root\n",
      "Getting  AIso2_pt_eta_bins from  output/muon_TP_Embedding_2018UL_Fits_AIso2_pt_eta_bins.root\n",
      "Getting  AIso2_pt_eta_bins from  output/muon_TP_DY_2018UL_Fits_AIso2_pt_eta_bins.root\n",
      "Adding Trg_IsoMu27_pt_eta_bins\n",
      "Getting  Trg_IsoMu27_pt_eta_bins from  output/muon_TP_Data_2018UL_Fits_Trg_IsoMu27_pt_eta_bins.root\n",
      "Getting  Trg_IsoMu27_pt_eta_bins from  output/muon_TP_Embedding_2018UL_Fits_Trg_IsoMu27_pt_eta_bins.root\n",
      "Getting  Trg_IsoMu27_pt_eta_bins from  output/muon_TP_DY_2018UL_Fits_Trg_IsoMu27_pt_eta_bins.root\n",
      "Adding Trg_IsoMu27_AIso1_pt_bins_inc_eta\n",
      "Getting  Trg_IsoMu27_AIso1_pt_bins_inc_eta from  output/muon_TP_Data_2018UL_Fits_Trg_IsoMu27_AIso1_pt_bins_inc_eta.root\n",
      "Getting  Trg_IsoMu27_AIso1_pt_bins_inc_eta from  output/muon_TP_Embedding_2018UL_Fits_Trg_IsoMu27_AIso1_pt_bins_inc_eta.root\n",
      "Getting  Trg_IsoMu27_AIso1_pt_bins_inc_eta from  output/muon_TP_DY_2018UL_Fits_Trg_IsoMu27_AIso1_pt_bins_inc_eta.root\n",
      "Adding Trg_IsoMu27_AIso2_pt_bins_inc_eta\n",
      "Getting  Trg_IsoMu27_AIso2_pt_bins_inc_eta from  output/muon_TP_Data_2018UL_Fits_Trg_IsoMu27_AIso2_pt_bins_inc_eta.root\n",
      "Getting  Trg_IsoMu27_AIso2_pt_bins_inc_eta from  output/muon_TP_Embedding_2018UL_Fits_Trg_IsoMu27_AIso2_pt_bins_inc_eta.root\n",
      "Getting  Trg_IsoMu27_AIso2_pt_bins_inc_eta from  output/muon_TP_DY_2018UL_Fits_Trg_IsoMu27_AIso2_pt_bins_inc_eta.root\n",
      "Adding Trg_IsoMu24_pt_eta_bins\n",
      "Getting  Trg_IsoMu24_pt_eta_bins from  output/muon_TP_Data_2018UL_Fits_Trg_IsoMu24_pt_eta_bins.root\n",
      "Getting  Trg_IsoMu24_pt_eta_bins from  output/muon_TP_Embedding_2018UL_Fits_Trg_IsoMu24_pt_eta_bins.root\n",
      "Getting  Trg_IsoMu24_pt_eta_bins from  output/muon_TP_DY_2018UL_Fits_Trg_IsoMu24_pt_eta_bins.root\n",
      "Adding Trg_IsoMu24_AIso1_pt_bins_inc_eta\n",
      "Getting  Trg_IsoMu24_AIso1_pt_bins_inc_eta from  output/muon_TP_Data_2018UL_Fits_Trg_IsoMu24_AIso1_pt_bins_inc_eta.root\n",
      "Getting  Trg_IsoMu24_AIso1_pt_bins_inc_eta from  output/muon_TP_Embedding_2018UL_Fits_Trg_IsoMu24_AIso1_pt_bins_inc_eta.root\n",
      "Getting  Trg_IsoMu24_AIso1_pt_bins_inc_eta from  output/muon_TP_DY_2018UL_Fits_Trg_IsoMu24_AIso1_pt_bins_inc_eta.root\n",
      "Adding Trg_IsoMu24_AIso2_pt_bins_inc_eta\n",
      "Getting  Trg_IsoMu24_AIso2_pt_bins_inc_eta from  output/muon_TP_Data_2018UL_Fits_Trg_IsoMu24_AIso2_pt_bins_inc_eta.root\n",
      "Getting  Trg_IsoMu24_AIso2_pt_bins_inc_eta from  output/muon_TP_Embedding_2018UL_Fits_Trg_IsoMu24_AIso2_pt_bins_inc_eta.root\n",
      "Getting  Trg_IsoMu24_AIso2_pt_bins_inc_eta from  output/muon_TP_DY_2018UL_Fits_Trg_IsoMu24_AIso2_pt_bins_inc_eta.root\n",
      "Adding Trg_IsoMu27_or_IsoMu24_pt_eta_bins\n",
      "Getting  Trg_IsoMu27_or_IsoMu24_pt_eta_bins from  output/muon_TP_Data_2018UL_Fits_Trg_IsoMu27_or_IsoMu24_pt_eta_bins.root\n",
      "Getting  Trg_IsoMu27_or_IsoMu24_pt_eta_bins from  output/muon_TP_Embedding_2018UL_Fits_Trg_IsoMu27_or_IsoMu24_pt_eta_bins.root\n",
      "Getting  Trg_IsoMu27_or_IsoMu24_pt_eta_bins from  output/muon_TP_DY_2018UL_Fits_Trg_IsoMu27_or_IsoMu24_pt_eta_bins.root\n",
      "Adding Trg_IsoMu27_or_IsoMu24_AIso1_pt_bins_inc_eta\n",
      "Getting  Trg_IsoMu27_or_IsoMu24_AIso1_pt_bins_inc_eta from  output/muon_TP_Data_2018UL_Fits_Trg_IsoMu27_or_IsoMu24_AIso1_pt_bins_inc_eta.root\n",
      "Getting  Trg_IsoMu27_or_IsoMu24_AIso1_pt_bins_inc_eta from  output/muon_TP_Embedding_2018UL_Fits_Trg_IsoMu27_or_IsoMu24_AIso1_pt_bins_inc_eta.root\n",
      "Getting  Trg_IsoMu27_or_IsoMu24_AIso1_pt_bins_inc_eta from  output/muon_TP_DY_2018UL_Fits_Trg_IsoMu27_or_IsoMu24_AIso1_pt_bins_inc_eta.root\n",
      "Adding Trg_IsoMu27_or_IsoMu24_AIso2_pt_bins_inc_eta\n",
      "Getting  Trg_IsoMu27_or_IsoMu24_AIso2_pt_bins_inc_eta from  output/muon_TP_Data_2018UL_Fits_Trg_IsoMu27_or_IsoMu24_AIso2_pt_bins_inc_eta.root\n",
      "Getting  Trg_IsoMu27_or_IsoMu24_AIso2_pt_bins_inc_eta from  output/muon_TP_Embedding_2018UL_Fits_Trg_IsoMu27_or_IsoMu24_AIso2_pt_bins_inc_eta.root\n",
      "Getting  Trg_IsoMu27_or_IsoMu24_AIso2_pt_bins_inc_eta from  output/muon_TP_DY_2018UL_Fits_Trg_IsoMu27_or_IsoMu24_AIso2_pt_bins_inc_eta.root\n",
      "Getting  Trg17_pt_eta_bins from  output/embeddingselection_TP_Data_2018UL_Fits_Trg17_pt_eta_bins.root\n",
      "Getting  Trg8_pt_eta_bins from  output/embeddingselection_TP_Data_2018UL_Fits_Trg8_pt_eta_bins.root\n",
      ">>> Writing output/jsons/muon_2018UL.json...\n"
     ]
    }
   ],
   "source": [
    "channel = \"muon\"\n",
    "era = \"2018UL\"\n",
    "if not os.path.exists(\"output/jsons\"):\n",
    "    os.makedirs(\"output/jsons\")\n",
    "correctionset = CorrectionSet(\"Embedding2018UL\")\n",
    "add_corrections(f\"settings/settings_{channel}_{era}.yaml\", correctionset, era)\n",
    "EmbSelEff = emb_doublemuon_correction(\n",
    "    tag=\"EmbSelEff\",\n",
    "    name=\"m_sel_trg_kit_ratio\",\n",
    "    configfile=f\"settings/settings_embeddingselection_{era}_xpog.yaml\",\n",
    "    triggernames=[\"Trg17_pt_eta_bins\", \"Trg8_pt_eta_bins\"],\n",
    "    era=era,\n",
    "    outdir=\"output/jsons\",\n",
    "    data_only=True,\n",
    ")\n",
    "EmbSelEff.generate_scheme()\n",
    "correctionset.add_correction(EmbSelEff)\n",
    "correctionset.write_json(f\"output/jsons/{channel}_{era}.json\")\n"
   ]
  }
 ],
 "metadata": {
  "interpreter": {
   "hash": "4ca03565cb001f9cc386465f5e54fb9f7fe5a3d5ae5e1fc4757005751a17d9de"
  },
  "kernelspec": {
   "display_name": "Python 3.9.5 (conda)",
   "language": "python",
   "name": "python3"
  },
  "language_info": {
   "codemirror_mode": {
    "name": "ipython",
    "version": 3
   },
   "file_extension": ".py",
   "mimetype": "text/x-python",
   "name": "python",
   "nbconvert_exporter": "python",
   "pygments_lexer": "ipython3",
   "version": "3.9.5"
  },
  "orig_nbformat": 4
 },
 "nbformat": 4,
 "nbformat_minor": 2
}
